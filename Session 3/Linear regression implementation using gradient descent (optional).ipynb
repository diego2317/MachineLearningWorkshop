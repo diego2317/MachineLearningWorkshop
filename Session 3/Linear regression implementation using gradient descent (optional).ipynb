{
 "cells": [
  {
   "cell_type": "markdown",
   "id": "2dc2f92b",
   "metadata": {},
   "source": [
    "We use a pre-processed sample from the [Boston house prices dataset](https://scikit-learn.org/stable/datasets/index.html#boston-dataset) to predict the house prices based on the number of rooms.\n",
    "* RM: average number of rooms per dwelling  $\\leftarrow$ **Input** $x$\n",
    "* MEDV: Median value of owner-occupied homes in $\\$$1000’s $\\leftarrow$ **Target** $y$"
   ]
  },
  {
   "cell_type": "code",
   "execution_count": 3,
   "id": "0e4ebbef",
   "metadata": {},
   "outputs": [],
   "source": [
    "import numpy as np\n",
    "import pandas as pd\n",
    "\n",
    "import matplotlib.pyplot as plt\n",
    "import seaborn as sns\n",
    "%matplotlib inline\n",
    "\n",
    "df = pd.read_csv('https://raw.githubusercontent.com/AashitaK/datasets/main/sample_boston.csv')\n",
    "x = df['RM'].values\n",
    "y = df['MEDV'].values \n",
    "plt.scatter(x, y);\n",
    "plt.xlabel(\"Average number of rooms\");\n",
    "plt.ylabel(\"Median value of homes in $1000’s\");"
   ]
  },
  {
   "cell_type": "code",
   "execution_count": 4,
   "id": "c2394ffd",
   "metadata": {},
   "outputs": [],
   "source": [
    "def cost(x, y, w, b, n):\n",
    "    J = 1/(2*n) * np.sum((y - (w*x + b))**2)\n",
    "    return J\n",
    "\n",
    "def weight_update(x, y, w, b, alpha, n):\n",
    "    y_prediction = w*x + b\n",
    "    w = w + alpha * 1/n * np.dot(y - y_prediction, x)\n",
    "    b = b + alpha * 1/n * np.sum(y - y_prediction)\n",
    "    return w, b\n",
    "    \n",
    "def plot_regression_line(x, y, w, b, i=None):\n",
    "    # Plot the points\n",
    "    plt.scatter(x, y)\n",
    "    \n",
    "    # Plot the regression line\n",
    "    x_values = np.linspace(x.min(), x.max(), 100)\n",
    "    y_prediction = w*x_values + b\n",
    "    legend = \"Iteration\" + str(i)\n",
    "    plt.plot(x_values, y_prediction, label=legend);\n",
    "    plt.xlabel(\"Average number of rooms\");\n",
    "    plt.ylabel(\"Median value of homes in $1000’s\");\n",
    "    plt.title(\"Fitting a linear regression model\");\n",
    "    if i:\n",
    "        plt.legend()\n",
    "    \n",
    "def plot_cost_function(J):\n",
    "    plt.figure(figsize=(8, 4))\n",
    "    plt.plot(J, label=\"Cost function\");\n",
    "    plt.xlabel(\"Iterations for the weight update\");\n",
    "    plt.title(\"Decline in the cost function\");\n",
    "    plt.legend()\n",
    "    \n",
    "    \n",
    "def iterations(x, y, w, b, alpha, n, m=5):\n",
    "    print(\"Initial Slope:\", w)\n",
    "    print(\"Intial Intercept:\", b)\n",
    "    print(\"Initial Cost:\", cost(x, y, w, b, n))\n",
    "    plt.figure(figsize=(12, 6))\n",
    "    plot_regression_line(x, y, w, b, i=0)\n",
    "    J = np.zeros(m)\n",
    "    for i in range(m):\n",
    "        w, b = weight_update(x, y, w, b, alpha, n)\n",
    "        J[i] = cost(x, y, w, b, n)\n",
    "        print(\"\\nAfter {} iteration(s)\".format(i+1))\n",
    "        print(\"Updated Slope :\", w)\n",
    "        print(\"Updated Intercept:\", b)\n",
    "        print(\"Cost:\", J[i])\n",
    "        plot_regression_line(x, y, w, b, i+1)\n",
    "    plot_cost_function(J)\n",
    "    "
   ]
  },
  {
   "cell_type": "code",
   "execution_count": 5,
   "id": "22941418",
   "metadata": {},
   "outputs": [
    {
     "name": "stdout",
     "output_type": "stream",
     "text": [
      "Illustration of weight update iterations using gradient descent for the linear regression model\n",
      "Initial Slope: 16\n",
      "Intial Intercept: -37\n",
      "Initial Cost: 903.18625632\n",
      "\n",
      "After 1 iteration(s)\n",
      "Updated Slope : 13.3280130696\n",
      "Updated Intercept: -37.4201712\n",
      "Cost: 321.9273775565587\n",
      "\n",
      "After 2 iteration(s)\n",
      "Updated Slope : 11.754228985806694\n",
      "Updated Intercept: -37.6676633616801\n",
      "Cost: 120.28007647123901\n",
      "\n",
      "After 3 iteration(s)\n",
      "Updated Slope : 10.827280587756901\n",
      "Updated Intercept: -37.81344847915116\n",
      "Cost: 50.32564558312046\n",
      "\n",
      "After 4 iteration(s)\n",
      "Updated Slope : 10.281314997720925\n",
      "Updated Intercept: -37.899328682715606\n",
      "Cost: 26.057418911579635\n",
      "\n",
      "After 5 iteration(s)\n",
      "Updated Slope : 9.959746272534458\n",
      "Updated Intercept: -37.949925206702744\n",
      "Cost: 17.638412114998143\n"
     ]
    }
   ],
   "source": [
    "n = len(y) # Number of training examples\n",
    "alpha = 0.01 # Learning rate\n",
    "w = 16 #10 # Slope\n",
    "b = -37 #-60 # Intercept\n",
    "print(\"Illustration of weight update iterations using gradient descent for the linear regression model\")\n",
    "iterations(x, y, w, b, alpha, n, 5)"
   ]
  },
  {
   "cell_type": "code",
   "execution_count": null,
   "id": "7a32b333",
   "metadata": {},
   "outputs": [],
   "source": []
  }
 ],
 "metadata": {
  "kernelspec": {
   "display_name": "tflowenv",
   "language": "python",
   "name": "python3"
  },
  "language_info": {
   "codemirror_mode": {
    "name": "ipython",
    "version": 3
   },
   "file_extension": ".py",
   "mimetype": "text/x-python",
   "name": "python",
   "nbconvert_exporter": "python",
   "pygments_lexer": "ipython3",
   "version": "3.10.13"
  }
 },
 "nbformat": 4,
 "nbformat_minor": 5
}
